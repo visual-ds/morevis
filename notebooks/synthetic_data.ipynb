{
 "cells": [
  {
   "cell_type": "markdown",
   "metadata": {},
   "source": [
    "# Generate Synthetic Datasets"
   ]
  },
  {
   "cell_type": "markdown",
   "metadata": {},
   "source": [
    "This notebook will create the synthetic dataset in our experiments."
   ]
  },
  {
   "cell_type": "code",
   "execution_count": 1,
   "metadata": {},
   "outputs": [],
   "source": [
    "import numpy as np\n",
    "import pandas as pd"
   ]
  },
  {
   "cell_type": "markdown",
   "metadata": {},
   "source": [
    "## Motivating Dataset\n",
    "\n",
    "Motivating Dataset with 4 circles that move in a circular path with different area changes."
   ]
  },
  {
   "cell_type": "code",
   "execution_count": 2,
   "metadata": {},
   "outputs": [],
   "source": [
    "timestamps = 20\n",
    "number_objects = 4\n",
    "number_turns = 1\n",
    "\n",
    "def increasing_radius(a, b):\n",
    "    \"\"\"Linear function to represent an increasing radius\"\"\"\n",
    "    return lambda t : a * t + b\n",
    "    \n",
    "def decreasing_radius(a, b):\n",
    "    \"\"\"Linear function to represent a decreasing radius\"\"\"\n",
    "    return lambda t : max(0.05, - a * t + b)\n",
    "\n",
    "def constant_radius(a):\n",
    "    \"\"\"Constant function to represent a constant radius\"\"\"\n",
    "    return lambda t : a\n",
    "\n",
    "objects_radius = [constant_radius(0.1), increasing_radius(0.4, 0.05), \n",
    "                  increasing_radius(0.4, 0.05), decreasing_radius(0.29, 0.3), ]\n",
    "\n",
    "def orbit_radius_func(t, i):\n",
    "    \"\"\"Function that return the radius of the orbit of the object i at time t\"\"\"\n",
    "    if i == 0:\n",
    "        return 0.1\n",
    "    elif i == 1:\n",
    "        if t < timestamps/2:\n",
    "            return 0.5\n",
    "        else:\n",
    "            return (t+1-timestamps/2)/(timestamps/2) * 0.15 + 0.5\n",
    "    elif i == 2:\n",
    "        return 0.8\n",
    "    elif i == 3:\n",
    "        return 1\n",
    "    \n",
    "objects_orbit_radius = [0.1, 0.5, 0.8, 1]\n",
    "\n",
    "direction = [1, 1, 1, -1]\n",
    "\n",
    "# For each timestamp, for each object, the values: circle xcenter, circle ycenter, circle radius\n",
    "circle_objects = np.zeros((timestamps, number_objects, 3))\n",
    "for t in range(timestamps):\n",
    "    for i in range(number_objects):\n",
    "        d = direction[i]\n",
    "        orbit_radius = orbit_radius_func(t, i)\n",
    "        xcenter = np.cos(2*np.pi*t/timestamps * d * number_turns) * orbit_radius\n",
    "        ycenter = np.sin(2*np.pi*t/timestamps * d * number_turns) * orbit_radius\n",
    "        radius = objects_radius[i](t/timestamps)\n",
    "        circle_objects[t, i, :] = [xcenter, ycenter, radius]\n",
    "        \n",
    "# Transform to DataFrame\n",
    "circle_objects_df = {\"timestep\": [], \"xcenter\": [], \"ycenter\":[], \"radius\": [], \"object\": [], \"points\": []}\n",
    "for t in range(timestamps):\n",
    "    for i in range(number_objects):\n",
    "        circle_objects_df[\"timestep\"].append(t)\n",
    "        circle_objects_df[\"object\"].append(i)\n",
    "        circle_objects_df[\"xcenter\"].append(circle_objects[t, i, 0])\n",
    "        circle_objects_df[\"ycenter\"].append(circle_objects[t, i, 1])\n",
    "        circle_objects_df[\"radius\"].append(circle_objects[t, i, 2])\n",
    "        \n",
    "        angle_samples = np.linspace(0, 2*np.pi, 20)\n",
    "        points = []\n",
    "        for theta in angle_samples:\n",
    "            points.append([circle_objects[t, i, 0] + circle_objects[t, i, 2] * np.cos(theta),\n",
    "                          circle_objects[t, i, 1] + circle_objects[t, i, 2] * np.sin(theta)])\n",
    "        circle_objects_df[\"points\"].append(points)\n",
    "        \n",
    "circle_objects_df = pd.DataFrame(circle_objects_df)\n",
    "circle_objects_df[\"area\"] = circle_objects_df[\"radius\"]*circle_objects_df[\"radius\"] *np.pi\n",
    "\n",
    "colormap = ['#66c2a5','#fc8d62','#8da0cb','#e78ac3']\n",
    "circle_objects_df[\"color\"] = circle_objects_df[\"object\"].apply(lambda x: colormap[x])\n",
    "\n",
    "circle_objects_df.to_csv(\"../data/processed/motivating.csv\", index = False)"
   ]
  }
 ],
 "metadata": {
  "kernelspec": {
   "display_name": "morevis",
   "language": "python",
   "name": "python3"
  },
  "language_info": {
   "codemirror_mode": {
    "name": "ipython",
    "version": 3
   },
   "file_extension": ".py",
   "mimetype": "text/x-python",
   "name": "python",
   "nbconvert_exporter": "python",
   "pygments_lexer": "ipython3",
   "version": "3.8.13"
  },
  "orig_nbformat": 4,
  "vscode": {
   "interpreter": {
    "hash": "41db7439e584d098932cada93f31d5d7e667f964f40c1196797cadd2eff5ce8d"
   }
  }
 },
 "nbformat": 4,
 "nbformat_minor": 2
}
