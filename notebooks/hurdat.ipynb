{
 "cells": [
  {
   "cell_type": "markdown",
   "id": "8b716e42",
   "metadata": {},
   "source": [
    "# HURDAT"
   ]
  },
  {
   "cell_type": "markdown",
   "id": "e2584eea",
   "metadata": {},
   "source": [
    "## Data description"
   ]
  },
  {
   "attachments": {},
   "cell_type": "markdown",
   "id": "471039f7",
   "metadata": {},
   "source": [
    "Data about hurricanes from [National Oceanic and Atmospheric Administration](https://www.aoml.noaa.gov/). The data is available at the following [link](https://www.aoml.noaa.gov/hrd/hurdat/Data_Storm.html) with the name __Hurdat 2__. The documentation about the data is in the [link](https://www.aoml.noaa.gov/hrd/hurdat/hurdat2-format.pdf). The data is already on the repository into the folder `data/hurdat` with the name `hurdat2.txt`.\n",
    "\n",
    "The collected information are:\n",
    "\n",
    "- Identification of the hurricane (code, name).\n",
    "- Date of the registration with hour information, data collected in intervals of 6 hours.\n",
    "- Position of the hurricane in longitude x latitude.\n",
    "- Measurements of wind and pressure.\n",
    "- Measurements of the size of the hurricane considering a threshold of wind velocity (only after 2004). \n",
    "\n",
    "For a specific hurricane, we have a time series of measurements of size, position, wind and pressure, so the data permits a temporal analysis of hurricanes."
   ]
  },
  {
   "cell_type": "code",
   "execution_count": 1,
   "id": "39bba3e2",
   "metadata": {},
   "outputs": [],
   "source": [
    "import pandas as pd\n",
    "import numpy as np\n",
    "import matplotlib.pyplot as plt\n",
    "from shapely.geometry import Polygon\n",
    "import sys\n",
    "import os\n",
    "module_path = os.path.abspath(os.path.join('../scripts'))\n",
    "sys.path.append(module_path)\n",
    "from coordinates import convert_to_web_mercator"
   ]
  },
  {
   "cell_type": "markdown",
   "id": "231affe0",
   "metadata": {},
   "source": [
    "## Preprocessing text file"
   ]
  },
  {
   "cell_type": "markdown",
   "id": "aa1047ce",
   "metadata": {},
   "source": [
    "The original data is not well formated, the following code will transform it in a `csv`."
   ]
  },
  {
   "cell_type": "code",
   "execution_count": 6,
   "id": "a4f72845",
   "metadata": {},
   "outputs": [],
   "source": [
    "df = {\"cod\": [], \"name\":[], \"rows\": [], \n",
    "      \"year\":[], \"month\":[], \"day\":[], \"hour\":[], \"minute\":[],\n",
    "      \"record\":[], \"status\":[], \"latitude\": [], \"longitude\":[], \"wind\" :[], \"pressure\":[],\n",
    "      \"34_rad_ne\": [], \"34_rad_se\":[], \"34_rad_sw\": [], \"34_rad_nw\": [],\n",
    "      \"50_rad_ne\": [], \"50_rad_se\":[], \"50_rad_sw\": [], \"50_rad_nw\": [],\n",
    "      \"64_rad_ne\": [], \"64_rad_se\":[], \"64_rad_sw\": [], \"64_rad_nw\": []}\n",
    "\n",
    "with open(\"../data/hurdat/hurdat2.txt\", \"r\") as f:\n",
    "    txt = f.readlines()\n",
    "    \n",
    "cod = \"\"\n",
    "name = \"\"\n",
    "rows = 0\n",
    "for line in txt:\n",
    "    values = line.split(\",\")\n",
    "    \n",
    "    if len(values) <= 6:\n",
    "        cod = values[0]\n",
    "        name = values[1].strip()\n",
    "        rows = values[2]\n",
    "    elif len(values) == 21:\n",
    "        df['cod'].append(cod)\n",
    "        df['name'].append(name)\n",
    "        df['rows'].append(rows)\n",
    "        \n",
    "        year = int(values[0][:4])\n",
    "        month = int(values[0][4:6])\n",
    "        day = int(values[0][6:])\n",
    "        time = values[1].strip()\n",
    "        hour = int(time[0:2])\n",
    "        minute = int(time[2:])\n",
    "        \n",
    "        df['year'].append(year)\n",
    "        df['month'].append(month)\n",
    "        df['day'].append(day)\n",
    "        df['hour'].append(hour)\n",
    "        df['minute'].append(minute)\n",
    "        \n",
    "        record = values[2]\n",
    "        status = values[3].strip()\n",
    "        \n",
    "        df['record'].append(record)\n",
    "        df['status'].append(status)\n",
    "        \n",
    "        \n",
    "        if values[4][-1] == 'S':\n",
    "            latitude = float(values[4][:-1])*-1\n",
    "        else:\n",
    "            latitude = float(values[4][:-1])\n",
    "            \n",
    "        if values[5][-1] == 'W':\n",
    "            longitude = float(values[5][:-1])*-1\n",
    "        else:\n",
    "            longitude = float(values[5][:-1])\n",
    "        df['latitude'].append(latitude)\n",
    "        df['longitude'].append(longitude)\n",
    "        \n",
    "        wind = values[6]\n",
    "        pressure = values[7]\n",
    "        df['wind'].append(wind)\n",
    "        df['pressure'].append(pressure)\n",
    "        \n",
    "        col_i = 0\n",
    "        keys = [\"34_rad_ne\", \"34_rad_se\", \"34_rad_sw\", \"34_rad_nw\",\n",
    "                \"50_rad_ne\", \"50_rad_se\", \"50_rad_sw\", \"50_rad_nw\",\n",
    "                \"64_rad_ne\", \"64_rad_se\",\"64_rad_sw\", \"64_rad_nw\"]\n",
    "        while (8 + col_i) < len(values) - 1:\n",
    "            num_val = float(values[8 + col_i])\n",
    "            if num_val == -999:\n",
    "                num_val = np.nan\n",
    "            df[keys[col_i]].append(num_val)\n",
    "            col_i +=1\n",
    "            \n",
    "df = pd.DataFrame(df)\n",
    "df['date'] = pd.to_datetime(df[['year', 'month', 'day', 'hour', 'minute']])\n",
    "df.to_csv(\"../data/hurdat/hurricanes_clean.csv\", index = False)"
   ]
  },
  {
   "cell_type": "markdown",
   "id": "74920391",
   "metadata": {},
   "source": [
    "## Creating objects dataframe"
   ]
  },
  {
   "cell_type": "markdown",
   "id": "5dfee075",
   "metadata": {},
   "source": [
    "- Each different hurricane will be an object. \n",
    "- We remove hurricanes with no area information (prior 2004).\n",
    "- Use a projection to the Web Mercator system so we get a positioning system that is \"close to linear\". \n",
    "- The year information of the data isn't important, we want to compare hurricanes from different years, so it only matters the month, day and hour of the date.\n",
    "- We consider the region of the hurricane as the octagon formed by its extension on each of the cardial directions."
   ]
  },
  {
   "cell_type": "code",
   "execution_count": 7,
   "id": "deb91af9",
   "metadata": {},
   "outputs": [
    {
     "name": "stdout",
     "output_type": "stream",
     "text": [
      "Total of unique hurricanes: 299\n"
     ]
    }
   ],
   "source": [
    "df = pd.read_csv(\"../data/hurdat/hurricanes_clean.csv\")\n",
    "df['date'] = pd.to_datetime(df.date)\n",
    "\n",
    "#Removing without radium values\n",
    "df = df.dropna().copy().reset_index(drop = True)\n",
    "\n",
    "#Creating object column\n",
    "cods = df.cod.unique()\n",
    "print(f\"Total of unique hurricanes: {len(cods)}\")\n",
    "cods_id = dict([(cods[i], i) for i in range(len(cods))])\n",
    "df['cod_i'] = df.cod.map(cods_id)\n",
    "df['object'] = df['cod_i']\n",
    "\n",
    "#Projecting data to Web Mercator\n",
    "df = convert_to_web_mercator(df)\n",
    "df['xcenter'] = df['longitude_merc']/1000\n",
    "df['ycenter'] = df['latitude_merc']/1000\n",
    "\n",
    "#Creating time column (in seconds)\n",
    "df['time'] = (df.month - 1)*30*24*3600 + (df.day-1) * 24*3600 + df.hour * 3600\n",
    "                                    \n",
    "#Calculating area\n",
    "min_val = 1\n",
    "points = []\n",
    "points_coords =  []\n",
    "for i in range(df.shape[0]):\n",
    "    arrow = lambda x : np.array([np.cos(x*np.pi/4), np.sin(x*np.pi/4)])\n",
    "    p = df.loc[i, ['xcenter', 'ycenter']].values\n",
    "    p_coord = df.loc[i, [\"longitude\", \"latitude\"]].values\n",
    "    dir_n = max((df['34_rad_ne'].iloc[i] + df['34_rad_nw'].iloc[i])/2, min_val) * arrow(2)\n",
    "    dir_ne = max(df['34_rad_ne'].iloc[i], min_val) * arrow(1)\n",
    "    dir_e = max((df['34_rad_se'].iloc[i] + df['34_rad_ne'].iloc[i])/2, min_val) * arrow(8)\n",
    "    dir_se = max(df['34_rad_se'].iloc[i], min_val) * arrow(7)\n",
    "    dir_s = max((df['34_rad_se'].iloc[i] + df['34_rad_sw'].iloc[i])/2, min_val) * arrow(6)\n",
    "    dir_sw = max(df['34_rad_sw'].iloc[i], min_val) * arrow(5)\n",
    "    dir_w = max((df['34_rad_sw'].iloc[i] + df['34_rad_nw'].iloc[i])/2, min_val) * arrow(4)\n",
    "    dir_nw = max(df['34_rad_nw'].iloc[i], min_val) * arrow(3)\n",
    "    \n",
    "    points.append([p + dir_n * 1.852,\n",
    "                   p + dir_ne * 1.852,\n",
    "                   p + dir_e * 1.852,\n",
    "                   p + dir_se * 1.852,\n",
    "                   p + dir_s * 1.852,\n",
    "                   p + dir_sw * 1.852,\n",
    "                   p + dir_w * 1.852,\n",
    "                   p + dir_nw * 1.852])\n",
    "\n",
    "    points_coords.append([p_coord + dir_n / 60,\n",
    "                   p_coord + dir_ne / 60,\n",
    "                   p_coord + dir_e / 60,\n",
    "                   p_coord + dir_se / 60,\n",
    "                   p_coord + dir_s / 60,\n",
    "                   p_coord + dir_sw / 60,\n",
    "                   p_coord + dir_w / 60,\n",
    "                   p_coord + dir_nw / 60])\n",
    "    \n",
    "df['points'] = points\n",
    "df[\"points_coords\"] = points_coords\n",
    "df['points'] = df.points.apply(lambda x : [list(t) for t in x])\n",
    "df['points_coords'] = df.points_coords.apply(lambda x : [list(t) for t in x])\n",
    "df['area'] = df.points.apply(lambda x : Polygon(x).convex_hull.area)\n",
    "\n",
    "# creating column with initial coordinate of each hurricane\n",
    "objects = df.object.unique()\n",
    "objects_map = {\"latitude\": {}, \"longitude\": {}}\n",
    "for e in objects:\n",
    "    longitude_start = df[df.object == e].sort_values('time').longitude.iloc[0]\n",
    "    latitude_start = df[df.object == e].sort_values('time').latitude.iloc[0]\n",
    "    objects_map[\"longitude\"][str(e)] = longitude_start\n",
    "    objects_map[\"latitude\"][str(e)] = latitude_start\n",
    "    \n",
    "df['longitude_start'] = df.object.map(lambda x : objects_map[\"longitude\"][str(x)])\n",
    "df['latitude_start'] = df.object.map(lambda x : objects_map[\"latitude\"][str(x)])\n",
    "\n",
    "#dropping objects that ended on january (and started on december)\n",
    "objects_to_remove = df[df.month == 1].object.unique()\n",
    "df = df[~df.object.isin(objects_to_remove)]\n",
    "df = df.reset_index(drop = True)\n",
    "\n",
    "df.to_csv(\"../data/processed/hurdat.csv\", index = False)\n"
   ]
  }
 ],
 "metadata": {
  "kernelspec": {
   "display_name": "Python 3.8.13 ('morevis')",
   "language": "python",
   "name": "python3"
  },
  "language_info": {
   "codemirror_mode": {
    "name": "ipython",
    "version": 3
   },
   "file_extension": ".py",
   "mimetype": "text/x-python",
   "name": "python",
   "nbconvert_exporter": "python",
   "pygments_lexer": "ipython3",
   "version": "3.8.13"
  },
  "vscode": {
   "interpreter": {
    "hash": "41db7439e584d098932cada93f31d5d7e667f964f40c1196797cadd2eff5ce8d"
   }
  }
 },
 "nbformat": 4,
 "nbformat_minor": 5
}
