{
 "cells": [
  {
   "cell_type": "markdown",
   "id": "7478b9f5",
   "metadata": {},
   "source": [
    "# WILDTRACK"
   ]
  },
  {
   "cell_type": "markdown",
   "id": "47f8b46c",
   "metadata": {},
   "source": [
    "## Data description"
   ]
  },
  {
   "cell_type": "markdown",
   "id": "320e57f1",
   "metadata": {},
   "source": [
    "Data from object detection of video of pedestrians walking by an entry of a building, there is a total of 20 seconds of video annoted (2 frames per second) and the video is filmed with different cameras, so there are annotation for each of these videos. Data is available at the following [link](https://www.epfl.ch/labs/cvlab/data/data-wildtrack/).\n",
    "\n",
    "Add the files in the folder `data/wildtrack`."
   ]
  },
  {
   "cell_type": "code",
   "execution_count": 1,
   "id": "a9be1313",
   "metadata": {},
   "outputs": [],
   "source": [
    "import pandas as pd\n",
    "import json\n",
    "from PIL import Image"
   ]
  },
  {
   "cell_type": "markdown",
   "id": "4196e53b",
   "metadata": {},
   "source": [
    "## Preprocessing json file\n",
    "\n",
    "The annotations are available in json format, we will use the annotations for the third camera, for each frame of the video we save all the bouding boxes annotated and we will have the information: x-position, y-position, width, area, time (frame number), points of the 4 corners."
   ]
  },
  {
   "cell_type": "code",
   "execution_count": 2,
   "id": "bce7ff36",
   "metadata": {},
   "outputs": [],
   "source": [
    "df = {\"object\": [], \"frame\" : [], \"xmin\": [], \"xmax\": [], \"ymin\": [], \"ymax\": [], \"points\": []}\n",
    "for i in range(0, 2000, 5):\n",
    "    i_s = (\"00000000\" + str(i))[-8:]\n",
    "    data = json.load(open(\"../data/wildtrack/annotations_positions/\" + i_s + \".json\", 'r'))\n",
    "    for d in data:\n",
    "        df['object'].append(d['personID'])\n",
    "        df['frame'].append(i)\n",
    "        xmin = max(0, d['views'][2]['xmin'])\n",
    "        xmax = min(1920, d['views'][2]['xmax'])\n",
    "        ymin = max(0, d['views'][2]['ymin'])\n",
    "        ymax = min(1280, d['views'][2]['ymax'])\n",
    "        df['xmin'].append(xmin)\n",
    "        df['xmax'].append(xmax)\n",
    "        df['ymin'].append(ymin)\n",
    "        df['ymax'].append(ymax)\n",
    "\n",
    "        points = []\n",
    "        corners = [\n",
    "                [\"xmin\", \"ymin\"],\n",
    "                [\"xmax\", \"ymin\"],\n",
    "                [\"xmax\", \"ymax\"],\n",
    "                [\"xmin\", \"ymax\"],\n",
    "                [\"xmin\", \"ymin\"],\n",
    "            ]\n",
    "        for corner in corners:\n",
    "            points.append([df[corner[0]][-1], df[corner[1]][-1]])\n",
    "        df[\"points\"].append(points)\n",
    "df = pd.DataFrame(df)\n",
    "df = df[((df.xmin != -1) & (df.xmax != -1) & (df.ymin != -1) & (df.ymax != -1))]\n",
    "df[\"timestep\"] = (df.frame - df.frame.min())//5\n",
    "df['area'] = (df.xmax - df.xmin) * (df.ymax - df.ymin)\n",
    "df['xcenter'] = (df.xmax + df.xmin)/2\n",
    "df['ycenter'] = (df.ymax + df.ymin)/2\n",
    "df.to_csv(\"../data/processed/wildtrack.csv\", index = False)"
   ]
  },
  {
   "cell_type": "markdown",
   "id": "aefe5fc5",
   "metadata": {},
   "source": [
    "## Reduce image resolution\n",
    "\n",
    "We will reduce the resolution from 1920x1280 to a smaller resolution of 384x288 so it can be easily shown in the web application."
   ]
  },
  {
   "cell_type": "code",
   "execution_count": 3,
   "id": "bcf97fb2",
   "metadata": {},
   "outputs": [],
   "source": [
    "for i in range(0, 2000, 5):\n",
    "    i_s = str(i)\n",
    "    i_s = \"00000000\" + i_s\n",
    "    i_s = i_s[-8:]\n",
    "    img = Image.open(\"../data/wildtrack/Image_subsets/C3/\" + i_s + \".png\")\n",
    "    img = img.resize((384, 288), Image.ANTIALIAS)\n",
    "    img.save(\"../app/static/data/c3_small/\" + i_s + \".png\")"
   ]
  }
 ],
 "metadata": {
  "kernelspec": {
   "display_name": "Python 3.8.13 ('morevis')",
   "language": "python",
   "name": "python3"
  },
  "language_info": {
   "codemirror_mode": {
    "name": "ipython",
    "version": 3
   },
   "file_extension": ".py",
   "mimetype": "text/x-python",
   "name": "python",
   "nbconvert_exporter": "python",
   "pygments_lexer": "ipython3",
   "version": "3.8.13"
  },
  "vscode": {
   "interpreter": {
    "hash": "41db7439e584d098932cada93f31d5d7e667f964f40c1196797cadd2eff5ce8d"
   }
  }
 },
 "nbformat": 4,
 "nbformat_minor": 5
}
